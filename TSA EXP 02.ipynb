{
 "cells": [
  {
   "cell_type": "code",
   "execution_count": 1,
   "id": "67f35426",
   "metadata": {},
   "outputs": [],
   "source": [
    "import pandas as pd\n",
    "import numpy as np\n",
    "import matplotlib.pyplot as plt"
   ]
  },
  {
   "cell_type": "code",
   "execution_count": 2,
   "id": "3871f01d",
   "metadata": {},
   "outputs": [
    {
     "data": {
      "text/html": [
       "<div>\n",
       "<style scoped>\n",
       "    .dataframe tbody tr th:only-of-type {\n",
       "        vertical-align: middle;\n",
       "    }\n",
       "\n",
       "    .dataframe tbody tr th {\n",
       "        vertical-align: top;\n",
       "    }\n",
       "\n",
       "    .dataframe thead th {\n",
       "        text-align: right;\n",
       "    }\n",
       "</style>\n",
       "<table border=\"1\" class=\"dataframe\">\n",
       "  <thead>\n",
       "    <tr style=\"text-align: right;\">\n",
       "      <th></th>\n",
       "      <th>Date</th>\n",
       "      <th>USD</th>\n",
       "      <th>GBP</th>\n",
       "      <th>EURO</th>\n",
       "    </tr>\n",
       "  </thead>\n",
       "  <tbody>\n",
       "    <tr>\n",
       "      <th>0</th>\n",
       "      <td>2022-04-21</td>\n",
       "      <td>24.645</td>\n",
       "      <td>18.87</td>\n",
       "      <td>22.61</td>\n",
       "    </tr>\n",
       "    <tr>\n",
       "      <th>1</th>\n",
       "      <td>2022-04-20</td>\n",
       "      <td>25.200</td>\n",
       "      <td>19.30</td>\n",
       "      <td>23.21</td>\n",
       "    </tr>\n",
       "    <tr>\n",
       "      <th>2</th>\n",
       "      <td>2022-04-19</td>\n",
       "      <td>25.915</td>\n",
       "      <td>19.89</td>\n",
       "      <td>24.01</td>\n",
       "    </tr>\n",
       "    <tr>\n",
       "      <th>3</th>\n",
       "      <td>2022-04-14</td>\n",
       "      <td>25.655</td>\n",
       "      <td>19.54</td>\n",
       "      <td>23.53</td>\n",
       "    </tr>\n",
       "    <tr>\n",
       "      <th>4</th>\n",
       "      <td>2022-04-13</td>\n",
       "      <td>25.640</td>\n",
       "      <td>19.72</td>\n",
       "      <td>23.68</td>\n",
       "    </tr>\n",
       "  </tbody>\n",
       "</table>\n",
       "</div>"
      ],
      "text/plain": [
       "         Date     USD    GBP   EURO\n",
       "0  2022-04-21  24.645  18.87  22.61\n",
       "1  2022-04-20  25.200  19.30  23.21\n",
       "2  2022-04-19  25.915  19.89  24.01\n",
       "3  2022-04-14  25.655  19.54  23.53\n",
       "4  2022-04-13  25.640  19.72  23.68"
      ]
     },
     "execution_count": 2,
     "metadata": {},
     "output_type": "execute_result"
    }
   ],
   "source": [
    "data = pd.read_csv('silver.csv')\n",
    "data.head()"
   ]
  },
  {
   "cell_type": "code",
   "execution_count": 3,
   "id": "ca785d6e",
   "metadata": {},
   "outputs": [],
   "source": [
    "data['Date'] = pd.to_datetime(data['Date'])\n",
    "data.set_index('Date', inplace=True)"
   ]
  },
  {
   "cell_type": "code",
   "execution_count": 5,
   "id": "b3094c0b",
   "metadata": {},
   "outputs": [
    {
     "data": {
      "text/html": [
       "<div>\n",
       "<style scoped>\n",
       "    .dataframe tbody tr th:only-of-type {\n",
       "        vertical-align: middle;\n",
       "    }\n",
       "\n",
       "    .dataframe tbody tr th {\n",
       "        vertical-align: top;\n",
       "    }\n",
       "\n",
       "    .dataframe thead th {\n",
       "        text-align: right;\n",
       "    }\n",
       "</style>\n",
       "<table border=\"1\" class=\"dataframe\">\n",
       "  <thead>\n",
       "    <tr style=\"text-align: right;\">\n",
       "      <th></th>\n",
       "      <th>USD</th>\n",
       "    </tr>\n",
       "    <tr>\n",
       "      <th>Date</th>\n",
       "      <th></th>\n",
       "    </tr>\n",
       "  </thead>\n",
       "  <tbody>\n",
       "    <tr>\n",
       "      <th>1968-12-31</th>\n",
       "      <td>549.481</td>\n",
       "    </tr>\n",
       "    <tr>\n",
       "      <th>1969-12-31</th>\n",
       "      <td>457.115</td>\n",
       "    </tr>\n",
       "    <tr>\n",
       "      <th>1970-12-31</th>\n",
       "      <td>450.266</td>\n",
       "    </tr>\n",
       "    <tr>\n",
       "      <th>1971-12-31</th>\n",
       "      <td>382.547</td>\n",
       "    </tr>\n",
       "    <tr>\n",
       "      <th>1972-12-31</th>\n",
       "      <td>422.578</td>\n",
       "    </tr>\n",
       "  </tbody>\n",
       "</table>\n",
       "</div>"
      ],
      "text/plain": [
       "                USD\n",
       "Date               \n",
       "1968-12-31  549.481\n",
       "1969-12-31  457.115\n",
       "1970-12-31  450.266\n",
       "1971-12-31  382.547\n",
       "1972-12-31  422.578"
      ]
     },
     "execution_count": 5,
     "metadata": {},
     "output_type": "execute_result"
    }
   ],
   "source": [
    "resampled_data = data['USD'].resample('Y').sum().to_frame()\n",
    "resampled_data.head()"
   ]
  },
  {
   "cell_type": "code",
   "execution_count": 6,
   "id": "e43bf1cb",
   "metadata": {},
   "outputs": [],
   "source": [
    "resampled_data.index = resampled_data.index.year"
   ]
  },
  {
   "cell_type": "code",
   "execution_count": 7,
   "id": "ae2854ff",
   "metadata": {},
   "outputs": [],
   "source": [
    "resampled_data.reset_index(inplace=True)\n",
    "resampled_data.rename(columns={'Date': 'Year'}, inplace=True)"
   ]
  },
  {
   "cell_type": "code",
   "execution_count": 8,
   "id": "4b4bcaa7",
   "metadata": {},
   "outputs": [
    {
     "data": {
      "text/html": [
       "<div>\n",
       "<style scoped>\n",
       "    .dataframe tbody tr th:only-of-type {\n",
       "        vertical-align: middle;\n",
       "    }\n",
       "\n",
       "    .dataframe tbody tr th {\n",
       "        vertical-align: top;\n",
       "    }\n",
       "\n",
       "    .dataframe thead th {\n",
       "        text-align: right;\n",
       "    }\n",
       "</style>\n",
       "<table border=\"1\" class=\"dataframe\">\n",
       "  <thead>\n",
       "    <tr style=\"text-align: right;\">\n",
       "      <th></th>\n",
       "      <th>Year</th>\n",
       "      <th>USD</th>\n",
       "    </tr>\n",
       "  </thead>\n",
       "  <tbody>\n",
       "    <tr>\n",
       "      <th>0</th>\n",
       "      <td>1968</td>\n",
       "      <td>549.481</td>\n",
       "    </tr>\n",
       "    <tr>\n",
       "      <th>1</th>\n",
       "      <td>1969</td>\n",
       "      <td>457.115</td>\n",
       "    </tr>\n",
       "    <tr>\n",
       "      <th>2</th>\n",
       "      <td>1970</td>\n",
       "      <td>450.266</td>\n",
       "    </tr>\n",
       "    <tr>\n",
       "      <th>3</th>\n",
       "      <td>1971</td>\n",
       "      <td>382.547</td>\n",
       "    </tr>\n",
       "    <tr>\n",
       "      <th>4</th>\n",
       "      <td>1972</td>\n",
       "      <td>422.578</td>\n",
       "    </tr>\n",
       "  </tbody>\n",
       "</table>\n",
       "</div>"
      ],
      "text/plain": [
       "   Year      USD\n",
       "0  1968  549.481\n",
       "1  1969  457.115\n",
       "2  1970  450.266\n",
       "3  1971  382.547\n",
       "4  1972  422.578"
      ]
     },
     "execution_count": 8,
     "metadata": {},
     "output_type": "execute_result"
    }
   ],
   "source": [
    "resampled_data.head()"
   ]
  },
  {
   "cell_type": "code",
   "execution_count": 12,
   "id": "985516f5",
   "metadata": {},
   "outputs": [],
   "source": [
    "years = resampled_data['Year'].tolist()\n",
    "usd = resampled_data['USD'].tolist()"
   ]
  },
  {
   "cell_type": "code",
   "execution_count": 13,
   "id": "621ac145",
   "metadata": {},
   "outputs": [],
   "source": [
    "X = [i - years[len(years) // 2] for i in years]\n",
    "x2 = [i ** 2 for i in X]\n",
    "xy = [i * j for i, j in zip(X, Euro)]\n",
    "\n",
    "n = len(years)\n",
    "b = (n * sum(xy) - sum(usd) * sum(X)) / (n * sum(x2) - (sum(X) ** 2))\n",
    "a = (sum(usd) - b * sum(X)) / n\n",
    "linear_trend = [a + b * X[i] for i in range(n)]"
   ]
  },
  {
   "cell_type": "code",
   "execution_count": 14,
   "id": "0e024e20",
   "metadata": {},
   "outputs": [],
   "source": [
    "x3 = [i ** 3 for i in X]\n",
    "x4 = [i ** 4 for i in X]\n",
    "x2y = [i * j for i, j in zip(x2, usd)]\n",
    "\n",
    "coeff = [[len(X), sum(X), sum(x2)],\n",
    "         [sum(X), sum(x2), sum(x3)],\n",
    "         [sum(x2), sum(x3), sum(x4)]]\n",
    "\n",
    "Y = [sum(usd), sum(xy), sum(x2y)]\n",
    "A = np.array(coeff)\n",
    "B = np.array(Y)\n",
    "\n",
    "solution = np.linalg.solve(A, B)\n",
    "a_poly, b_poly, c_poly = solution\n",
    "poly_trend = [a_poly + b_poly * X[i] + c_poly * (X[i] ** 2) for i in range(n)]"
   ]
  },
  {
   "cell_type": "code",
   "execution_count": 15,
   "id": "707cea7f",
   "metadata": {},
   "outputs": [
    {
     "name": "stdout",
     "output_type": "stream",
     "text": [
      "Linear Trend: y=2460.81 + 79.10x\n",
      "\n",
      "Polynomial Trend: y=2021.05 + 79.10x + 1.75x²\n"
     ]
    }
   ],
   "source": [
    "print(f\"Linear Trend: y={a:.2f} + {b:.2f}x\")\n",
    "print(f\"\\nPolynomial Trend: y={a_poly:.2f} + {b_poly:.2f}x + {c_poly:.2f}x²\")"
   ]
  },
  {
   "cell_type": "code",
   "execution_count": 16,
   "id": "d6d19ab8",
   "metadata": {},
   "outputs": [],
   "source": [
    "resampled_data['Linear Trend'] = linear_trend\n",
    "resampled_data['Polynomial Trend'] = poly_trend"
   ]
  },
  {
   "cell_type": "code",
   "execution_count": 17,
   "id": "96fb36dd",
   "metadata": {},
   "outputs": [],
   "source": [
    "resampled_data.set_index('Year',inplace=True)"
   ]
  },
  {
   "cell_type": "code",
   "execution_count": 18,
   "id": "cbe9dc47",
   "metadata": {},
   "outputs": [
    {
     "data": {
      "text/plain": [
       "<Axes: xlabel='Year'>"
      ]
     },
     "execution_count": 18,
     "metadata": {},
     "output_type": "execute_result"
    },
    {
     "data": {
      "image/png": "[encoded data removed]",
      "text/plain": [
       "<Figure size 640x480 with 1 Axes>"
      ]
     },
     "metadata": {},
     "output_type": "display_data"
    }
   ],
   "source": [
    "resampled_data['USD'].plot(kind='line',color='blue',marker='o') \n",
    "resampled_data['Linear Trend'].plot(kind='line',color='black',linestyle='--')"
   ]
  },
  {
   "cell_type": "code",
   "execution_count": 19,
   "id": "865381fe",
   "metadata": {},
   "outputs": [
    {
     "data": {
      "text/plain": [
       "<Axes: xlabel='Year'>"
      ]
     },
     "execution_count": 19,
     "metadata": {},
     "output_type": "execute_result"
    },
    {
     "data": {
      "image/png": "[encoded data removed]",
      "text/plain": [
       "<Figure size 640x480 with 1 Axes>"
      ]
     },
     "metadata": {},
     "output_type": "display_data"
    }
   ],
   "source": [
    "resampled_data['USD'].plot(kind='line',color='blue',marker='o')\n",
    "resampled_data['Polynomial Trend'].plot(kind='line',color='black',marker='o')"
   ]
  },
  {
   "cell_type": "code",
   "execution_count": null,
   "id": "0250cd3b",
   "metadata": {},
   "outputs": [],
   "source": []
  }
 ],
 "metadata": {
  "kernelspec": {
   "display_name": "Python 3 (ipykernel)",
   "language": "python",
   "name": "python3"
  },
  "language_info": {
   "codemirror_mode": {
    "name": "ipython",
    "version": 3
   },
   "file_extension": ".py",
   "mimetype": "text/x-python",
   "name": "python",
   "nbconvert_exporter": "python",
   "pygments_lexer": "ipython3",
   "version": "3.11.3"
  }
 },
 "nbformat": 4,
 "nbformat_minor": 5
}
